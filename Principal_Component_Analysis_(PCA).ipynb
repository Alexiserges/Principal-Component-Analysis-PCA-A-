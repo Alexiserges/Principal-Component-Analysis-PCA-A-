{
  "nbformat": 4,
  "nbformat_minor": 0,
  "metadata": {
    "colab": {
      "provenance": [],
      "authorship_tag": "ABX9TyNyHlWI5rUSAYpwI4t0WWIr",
      "include_colab_link": true
    },
    "kernelspec": {
      "name": "python3",
      "display_name": "Python 3"
    },
    "language_info": {
      "name": "python"
    }
  },
  "cells": [
    {
      "cell_type": "markdown",
      "metadata": {
        "id": "view-in-github",
        "colab_type": "text"
      },
      "source": [
        "<a href=\"https://colab.research.google.com/github/Alexiserges/Principal-Component-Analysis-PCA-A-/blob/main/Principal_Component_Analysis_(PCA).ipynb\" target=\"_parent\"><img src=\"https://colab.research.google.com/assets/colab-badge.svg\" alt=\"Open In Colab\"/></a>"
      ]
    },
    {
      "cell_type": "markdown",
      "source": [
        "Principal component analysis (PCA) is a popular technique for analyzing large datasets containing a high number of dimensions/features per observation, increasing the interpretability of data while preserving the maximum amount of information, and enabling the visualization of multidimensional data. \n",
        "Formally, PCA is a statistical technique for reducing the dimensionality of a dataset. This is accomplished by linearly transforming the data into a new coordinate system where (most of) the variation in the data can be described with fewer dimensions than the initial data. Many studies use the first two principal components in order to plot the data in two dimensions and to visually identify clusters of closely related data points. Principal component analysis has applications in many fields such as population genetics, microbiome studies, and atmospheric science"
      ],
      "metadata": {
        "id": "9MZoIY5nyXao"
      }
    },
    {
      "cell_type": "code",
      "execution_count": 49,
      "metadata": {
        "id": "LdAP7B_7gLWi"
      },
      "outputs": [],
      "source": [
        "import matplotlib.pyplot as plt\n",
        "import seaborn as sns\n",
        "import numpy as np\n",
        "import pandas as pd\n",
        "%matplotlib inline"
      ]
    },
    {
      "cell_type": "code",
      "source": [
        "df = pd.read_csv('Dataset.csv')"
      ],
      "metadata": {
        "id": "2sADRShzgy3z"
      },
      "execution_count": 50,
      "outputs": []
    },
    {
      "cell_type": "code",
      "source": [
        "df.head()"
      ],
      "metadata": {
        "colab": {
          "base_uri": "https://localhost:8080/",
          "height": 270
        },
        "id": "ukf_K5NGh-PS",
        "outputId": "d51a5fb7-a00b-42aa-89b7-9593a1200615"
      },
      "execution_count": 51,
      "outputs": [
        {
          "output_type": "execute_result",
          "data": {
            "text/plain": [
              "     COUNTY        DATE  TOTAL_CASES  NEW_CASES  TOTAL_CONFIRMED  \\\n",
              "0  Anderson  10/12/2022        26624          2            16211   \n",
              "1   Bedford  10/12/2022        17298          5            12508   \n",
              "2    Benton  10/12/2022         5424          0             3154   \n",
              "3   Bledsoe  10/12/2022         5220          0             3827   \n",
              "4    Blount  10/12/2022        46919          5            37075   \n",
              "\n",
              "   NEW_CONFIRMED  TOTAL_PROBABLE  NEW_PROBABLE  POS_TESTS  NEW_POS_TESTS  \\\n",
              "0              1         10413.0           1.0    17646.0            1.0   \n",
              "1              5          4790.0           0.0    13873.0            5.0   \n",
              "2              0          2270.0           0.0     3367.0            0.0   \n",
              "3              0          1393.0           0.0     4061.0            0.0   \n",
              "4              3          9844.0           2.0    39618.0            3.0   \n",
              "\n",
              "   NEG_TESTS  NEW_NEG_TESTS  TOTAL_TESTS  NEW_TESTS  NEW_DEATHS  TOTAL_DEATHS  \\\n",
              "0    94584.0            7.0     112230.0        8.0         0.0         381.0   \n",
              "1    53100.0           11.0      66973.0       16.0         0.0         246.0   \n",
              "2    15084.0            6.0      18451.0        6.0         0.0         101.0   \n",
              "3    24075.0            1.0      28136.0        1.0         0.0          63.0   \n",
              "4   138816.0           25.0     178434.0       28.0         0.0         502.0   \n",
              "\n",
              "   NEW_HOSPITALIZED  TOTAL_HOSPITALIZED  TOTAL_DEATHS_BY_DOD  \\\n",
              "0               0.0               385.0                381.0   \n",
              "1               0.0               335.0                246.0   \n",
              "2               0.0               129.0                101.0   \n",
              "3               0.0               100.0                 63.0   \n",
              "4               0.0               963.0                501.0   \n",
              "\n",
              "   NEW_DEATHS_BY_DOD  \n",
              "0                0.0  \n",
              "1                0.0  \n",
              "2                0.0  \n",
              "3                0.0  \n",
              "4                0.0  "
            ],
            "text/html": [
              "\n",
              "  <div id=\"df-0f9ebf6a-c442-46eb-952e-8a2948966fba\">\n",
              "    <div class=\"colab-df-container\">\n",
              "      <div>\n",
              "<style scoped>\n",
              "    .dataframe tbody tr th:only-of-type {\n",
              "        vertical-align: middle;\n",
              "    }\n",
              "\n",
              "    .dataframe tbody tr th {\n",
              "        vertical-align: top;\n",
              "    }\n",
              "\n",
              "    .dataframe thead th {\n",
              "        text-align: right;\n",
              "    }\n",
              "</style>\n",
              "<table border=\"1\" class=\"dataframe\">\n",
              "  <thead>\n",
              "    <tr style=\"text-align: right;\">\n",
              "      <th></th>\n",
              "      <th>COUNTY</th>\n",
              "      <th>DATE</th>\n",
              "      <th>TOTAL_CASES</th>\n",
              "      <th>NEW_CASES</th>\n",
              "      <th>TOTAL_CONFIRMED</th>\n",
              "      <th>NEW_CONFIRMED</th>\n",
              "      <th>TOTAL_PROBABLE</th>\n",
              "      <th>NEW_PROBABLE</th>\n",
              "      <th>POS_TESTS</th>\n",
              "      <th>NEW_POS_TESTS</th>\n",
              "      <th>NEG_TESTS</th>\n",
              "      <th>NEW_NEG_TESTS</th>\n",
              "      <th>TOTAL_TESTS</th>\n",
              "      <th>NEW_TESTS</th>\n",
              "      <th>NEW_DEATHS</th>\n",
              "      <th>TOTAL_DEATHS</th>\n",
              "      <th>NEW_HOSPITALIZED</th>\n",
              "      <th>TOTAL_HOSPITALIZED</th>\n",
              "      <th>TOTAL_DEATHS_BY_DOD</th>\n",
              "      <th>NEW_DEATHS_BY_DOD</th>\n",
              "    </tr>\n",
              "  </thead>\n",
              "  <tbody>\n",
              "    <tr>\n",
              "      <th>0</th>\n",
              "      <td>Anderson</td>\n",
              "      <td>10/12/2022</td>\n",
              "      <td>26624</td>\n",
              "      <td>2</td>\n",
              "      <td>16211</td>\n",
              "      <td>1</td>\n",
              "      <td>10413.0</td>\n",
              "      <td>1.0</td>\n",
              "      <td>17646.0</td>\n",
              "      <td>1.0</td>\n",
              "      <td>94584.0</td>\n",
              "      <td>7.0</td>\n",
              "      <td>112230.0</td>\n",
              "      <td>8.0</td>\n",
              "      <td>0.0</td>\n",
              "      <td>381.0</td>\n",
              "      <td>0.0</td>\n",
              "      <td>385.0</td>\n",
              "      <td>381.0</td>\n",
              "      <td>0.0</td>\n",
              "    </tr>\n",
              "    <tr>\n",
              "      <th>1</th>\n",
              "      <td>Bedford</td>\n",
              "      <td>10/12/2022</td>\n",
              "      <td>17298</td>\n",
              "      <td>5</td>\n",
              "      <td>12508</td>\n",
              "      <td>5</td>\n",
              "      <td>4790.0</td>\n",
              "      <td>0.0</td>\n",
              "      <td>13873.0</td>\n",
              "      <td>5.0</td>\n",
              "      <td>53100.0</td>\n",
              "      <td>11.0</td>\n",
              "      <td>66973.0</td>\n",
              "      <td>16.0</td>\n",
              "      <td>0.0</td>\n",
              "      <td>246.0</td>\n",
              "      <td>0.0</td>\n",
              "      <td>335.0</td>\n",
              "      <td>246.0</td>\n",
              "      <td>0.0</td>\n",
              "    </tr>\n",
              "    <tr>\n",
              "      <th>2</th>\n",
              "      <td>Benton</td>\n",
              "      <td>10/12/2022</td>\n",
              "      <td>5424</td>\n",
              "      <td>0</td>\n",
              "      <td>3154</td>\n",
              "      <td>0</td>\n",
              "      <td>2270.0</td>\n",
              "      <td>0.0</td>\n",
              "      <td>3367.0</td>\n",
              "      <td>0.0</td>\n",
              "      <td>15084.0</td>\n",
              "      <td>6.0</td>\n",
              "      <td>18451.0</td>\n",
              "      <td>6.0</td>\n",
              "      <td>0.0</td>\n",
              "      <td>101.0</td>\n",
              "      <td>0.0</td>\n",
              "      <td>129.0</td>\n",
              "      <td>101.0</td>\n",
              "      <td>0.0</td>\n",
              "    </tr>\n",
              "    <tr>\n",
              "      <th>3</th>\n",
              "      <td>Bledsoe</td>\n",
              "      <td>10/12/2022</td>\n",
              "      <td>5220</td>\n",
              "      <td>0</td>\n",
              "      <td>3827</td>\n",
              "      <td>0</td>\n",
              "      <td>1393.0</td>\n",
              "      <td>0.0</td>\n",
              "      <td>4061.0</td>\n",
              "      <td>0.0</td>\n",
              "      <td>24075.0</td>\n",
              "      <td>1.0</td>\n",
              "      <td>28136.0</td>\n",
              "      <td>1.0</td>\n",
              "      <td>0.0</td>\n",
              "      <td>63.0</td>\n",
              "      <td>0.0</td>\n",
              "      <td>100.0</td>\n",
              "      <td>63.0</td>\n",
              "      <td>0.0</td>\n",
              "    </tr>\n",
              "    <tr>\n",
              "      <th>4</th>\n",
              "      <td>Blount</td>\n",
              "      <td>10/12/2022</td>\n",
              "      <td>46919</td>\n",
              "      <td>5</td>\n",
              "      <td>37075</td>\n",
              "      <td>3</td>\n",
              "      <td>9844.0</td>\n",
              "      <td>2.0</td>\n",
              "      <td>39618.0</td>\n",
              "      <td>3.0</td>\n",
              "      <td>138816.0</td>\n",
              "      <td>25.0</td>\n",
              "      <td>178434.0</td>\n",
              "      <td>28.0</td>\n",
              "      <td>0.0</td>\n",
              "      <td>502.0</td>\n",
              "      <td>0.0</td>\n",
              "      <td>963.0</td>\n",
              "      <td>501.0</td>\n",
              "      <td>0.0</td>\n",
              "    </tr>\n",
              "  </tbody>\n",
              "</table>\n",
              "</div>\n",
              "      <button class=\"colab-df-convert\" onclick=\"convertToInteractive('df-0f9ebf6a-c442-46eb-952e-8a2948966fba')\"\n",
              "              title=\"Convert this dataframe to an interactive table.\"\n",
              "              style=\"display:none;\">\n",
              "        \n",
              "  <svg xmlns=\"http://www.w3.org/2000/svg\" height=\"24px\"viewBox=\"0 0 24 24\"\n",
              "       width=\"24px\">\n",
              "    <path d=\"M0 0h24v24H0V0z\" fill=\"none\"/>\n",
              "    <path d=\"M18.56 5.44l.94 2.06.94-2.06 2.06-.94-2.06-.94-.94-2.06-.94 2.06-2.06.94zm-11 1L8.5 8.5l.94-2.06 2.06-.94-2.06-.94L8.5 2.5l-.94 2.06-2.06.94zm10 10l.94 2.06.94-2.06 2.06-.94-2.06-.94-.94-2.06-.94 2.06-2.06.94z\"/><path d=\"M17.41 7.96l-1.37-1.37c-.4-.4-.92-.59-1.43-.59-.52 0-1.04.2-1.43.59L10.3 9.45l-7.72 7.72c-.78.78-.78 2.05 0 2.83L4 21.41c.39.39.9.59 1.41.59.51 0 1.02-.2 1.41-.59l7.78-7.78 2.81-2.81c.8-.78.8-2.07 0-2.86zM5.41 20L4 18.59l7.72-7.72 1.47 1.35L5.41 20z\"/>\n",
              "  </svg>\n",
              "      </button>\n",
              "      \n",
              "  <style>\n",
              "    .colab-df-container {\n",
              "      display:flex;\n",
              "      flex-wrap:wrap;\n",
              "      gap: 12px;\n",
              "    }\n",
              "\n",
              "    .colab-df-convert {\n",
              "      background-color: #E8F0FE;\n",
              "      border: none;\n",
              "      border-radius: 50%;\n",
              "      cursor: pointer;\n",
              "      display: none;\n",
              "      fill: #1967D2;\n",
              "      height: 32px;\n",
              "      padding: 0 0 0 0;\n",
              "      width: 32px;\n",
              "    }\n",
              "\n",
              "    .colab-df-convert:hover {\n",
              "      background-color: #E2EBFA;\n",
              "      box-shadow: 0px 1px 2px rgba(60, 64, 67, 0.3), 0px 1px 3px 1px rgba(60, 64, 67, 0.15);\n",
              "      fill: #174EA6;\n",
              "    }\n",
              "\n",
              "    [theme=dark] .colab-df-convert {\n",
              "      background-color: #3B4455;\n",
              "      fill: #D2E3FC;\n",
              "    }\n",
              "\n",
              "    [theme=dark] .colab-df-convert:hover {\n",
              "      background-color: #434B5C;\n",
              "      box-shadow: 0px 1px 3px 1px rgba(0, 0, 0, 0.15);\n",
              "      filter: drop-shadow(0px 1px 2px rgba(0, 0, 0, 0.3));\n",
              "      fill: #FFFFFF;\n",
              "    }\n",
              "  </style>\n",
              "\n",
              "      <script>\n",
              "        const buttonEl =\n",
              "          document.querySelector('#df-0f9ebf6a-c442-46eb-952e-8a2948966fba button.colab-df-convert');\n",
              "        buttonEl.style.display =\n",
              "          google.colab.kernel.accessAllowed ? 'block' : 'none';\n",
              "\n",
              "        async function convertToInteractive(key) {\n",
              "          const element = document.querySelector('#df-0f9ebf6a-c442-46eb-952e-8a2948966fba');\n",
              "          const dataTable =\n",
              "            await google.colab.kernel.invokeFunction('convertToInteractive',\n",
              "                                                     [key], {});\n",
              "          if (!dataTable) return;\n",
              "\n",
              "          const docLinkHtml = 'Like what you see? Visit the ' +\n",
              "            '<a target=\"_blank\" href=https://colab.research.google.com/notebooks/data_table.ipynb>data table notebook</a>'\n",
              "            + ' to learn more about interactive tables.';\n",
              "          element.innerHTML = '';\n",
              "          dataTable['output_type'] = 'display_data';\n",
              "          await google.colab.output.renderOutput(dataTable, element);\n",
              "          const docLink = document.createElement('div');\n",
              "          docLink.innerHTML = docLinkHtml;\n",
              "          element.appendChild(docLink);\n",
              "        }\n",
              "      </script>\n",
              "    </div>\n",
              "  </div>\n",
              "  "
            ]
          },
          "metadata": {},
          "execution_count": 51
        }
      ]
    },
    {
      "cell_type": "code",
      "source": [
        "df.isnull().sum()"
      ],
      "metadata": {
        "colab": {
          "base_uri": "https://localhost:8080/"
        },
        "id": "-eyqznB0lG2L",
        "outputId": "11ac5bcc-867c-4f6a-c385-20693c7fd7cd"
      },
      "execution_count": 52,
      "outputs": [
        {
          "output_type": "execute_result",
          "data": {
            "text/plain": [
              "COUNTY                 0\n",
              "DATE                   0\n",
              "TOTAL_CASES            0\n",
              "NEW_CASES              0\n",
              "TOTAL_CONFIRMED        0\n",
              "NEW_CONFIRMED          0\n",
              "TOTAL_PROBABLE         1\n",
              "NEW_PROBABLE           1\n",
              "POS_TESTS              1\n",
              "NEW_POS_TESTS          1\n",
              "NEG_TESTS              1\n",
              "NEW_NEG_TESTS          1\n",
              "TOTAL_TESTS            1\n",
              "NEW_TESTS              1\n",
              "NEW_DEATHS             1\n",
              "TOTAL_DEATHS           1\n",
              "NEW_HOSPITALIZED       1\n",
              "TOTAL_HOSPITALIZED     1\n",
              "TOTAL_DEATHS_BY_DOD    1\n",
              "NEW_DEATHS_BY_DOD      1\n",
              "dtype: int64"
            ]
          },
          "metadata": {},
          "execution_count": 52
        }
      ]
    },
    {
      "cell_type": "code",
      "source": [
        "def impute_nan(df,variable):\n",
        "    most_frequent_category=df[variable].mode()[0]\n",
        "    df[variable].fillna(most_frequent_category,inplace=True)"
      ],
      "metadata": {
        "id": "gLxIk_yEp9zr"
      },
      "execution_count": 53,
      "outputs": []
    },
    {
      "cell_type": "code",
      "source": [
        "for feature in ['TOTAL_PROBABLE','NEW_PROBABLE','POS_TESTS','NEW_POS_TESTS','NEG_TESTS','NEW_NEG_TESTS','TOTAL_TESTS','NEW_TESTS',\n",
        "'NEW_DEATHS', 'TOTAL_DEATHS' , 'NEW_HOSPITALIZED', 'TOTAL_HOSPITALIZED', 'TOTAL_DEATHS_BY_DOD', 'NEW_DEATHS_BY_DOD']:\n",
        "    impute_nan(df,feature)"
      ],
      "metadata": {
        "id": "xclCrnKXqA8d"
      },
      "execution_count": 54,
      "outputs": []
    },
    {
      "cell_type": "code",
      "source": [
        "df.isnull().mean()"
      ],
      "metadata": {
        "colab": {
          "base_uri": "https://localhost:8080/"
        },
        "id": "CZldvmiFq64w",
        "outputId": "1b69b635-22e6-41a6-b771-5e0c0d018792"
      },
      "execution_count": 55,
      "outputs": [
        {
          "output_type": "execute_result",
          "data": {
            "text/plain": [
              "COUNTY                 0.0\n",
              "DATE                   0.0\n",
              "TOTAL_CASES            0.0\n",
              "NEW_CASES              0.0\n",
              "TOTAL_CONFIRMED        0.0\n",
              "NEW_CONFIRMED          0.0\n",
              "TOTAL_PROBABLE         0.0\n",
              "NEW_PROBABLE           0.0\n",
              "POS_TESTS              0.0\n",
              "NEW_POS_TESTS          0.0\n",
              "NEG_TESTS              0.0\n",
              "NEW_NEG_TESTS          0.0\n",
              "TOTAL_TESTS            0.0\n",
              "NEW_TESTS              0.0\n",
              "NEW_DEATHS             0.0\n",
              "TOTAL_DEATHS           0.0\n",
              "NEW_HOSPITALIZED       0.0\n",
              "TOTAL_HOSPITALIZED     0.0\n",
              "TOTAL_DEATHS_BY_DOD    0.0\n",
              "NEW_DEATHS_BY_DOD      0.0\n",
              "dtype: float64"
            ]
          },
          "metadata": {},
          "execution_count": 55
        }
      ]
    },
    {
      "cell_type": "code",
      "source": [
        "df.keys()"
      ],
      "metadata": {
        "colab": {
          "base_uri": "https://localhost:8080/"
        },
        "id": "nSYUW2tHig3x",
        "outputId": "1dc76345-3b4a-45a4-bcdb-954ff617d393"
      },
      "execution_count": 56,
      "outputs": [
        {
          "output_type": "execute_result",
          "data": {
            "text/plain": [
              "Index(['COUNTY', 'DATE', 'TOTAL_CASES', 'NEW_CASES', 'TOTAL_CONFIRMED',\n",
              "       'NEW_CONFIRMED', 'TOTAL_PROBABLE', 'NEW_PROBABLE', 'POS_TESTS',\n",
              "       'NEW_POS_TESTS', 'NEG_TESTS', 'NEW_NEG_TESTS', 'TOTAL_TESTS',\n",
              "       'NEW_TESTS', 'NEW_DEATHS', 'TOTAL_DEATHS', 'NEW_HOSPITALIZED',\n",
              "       'TOTAL_HOSPITALIZED', 'TOTAL_DEATHS_BY_DOD', 'NEW_DEATHS_BY_DOD'],\n",
              "      dtype='object')"
            ]
          },
          "metadata": {},
          "execution_count": 56
        }
      ]
    },
    {
      "cell_type": "code",
      "source": [
        "print(df.describe)"
      ],
      "metadata": {
        "colab": {
          "base_uri": "https://localhost:8080/"
        },
        "id": "CICzKx-digvZ",
        "outputId": "5ab429b1-d693-43b7-b13e-0864ec91f17d"
      },
      "execution_count": 57,
      "outputs": [
        {
          "output_type": "stream",
          "name": "stdout",
          "text": [
            "<bound method NDFrame.describe of          COUNTY        DATE  TOTAL_CASES  NEW_CASES  TOTAL_CONFIRMED  \\\n",
            "0      Anderson  10/12/2022        26624          2            16211   \n",
            "1       Bedford  10/12/2022        17298          5            12508   \n",
            "2        Benton  10/12/2022         5424          0             3154   \n",
            "3       Bledsoe  10/12/2022         5220          0             3827   \n",
            "4        Blount  10/12/2022        46919          5            37075   \n",
            "...         ...         ...          ...        ...              ...   \n",
            "75205    Grundy  26/10/2020          596          6              553   \n",
            "75206   Hamblen  26/10/2020         2468         19             2244   \n",
            "75207  Hamilton  26/10/2020        11861         72            11330   \n",
            "75208   Hancock  26/10/2020          129          0              117   \n",
            "75209  Hardeman  26/10/2020         1887          7             1761   \n",
            "\n",
            "       NEW_CONFIRMED  TOTAL_PROBABLE  NEW_PROBABLE  POS_TESTS  NEW_POS_TESTS  \\\n",
            "0                  1         10413.0           1.0    17646.0            1.0   \n",
            "1                  5          4790.0           0.0    13873.0            5.0   \n",
            "2                  0          2270.0           0.0     3367.0            0.0   \n",
            "3                  0          1393.0           0.0     4061.0            0.0   \n",
            "4                  3          9844.0           2.0    39618.0            3.0   \n",
            "...              ...             ...           ...        ...            ...   \n",
            "75205              6            43.0           0.0      664.0            6.0   \n",
            "75206             18           224.0           1.0     2640.0           21.0   \n",
            "75207             62           531.0          10.0    13248.0           66.0   \n",
            "75208              0            12.0           0.0      131.0            0.0   \n",
            "75209              4           757.0           0.0     1804.0            0.0   \n",
            "\n",
            "       NEG_TESTS  NEW_NEG_TESTS  TOTAL_TESTS  NEW_TESTS  NEW_DEATHS  \\\n",
            "0        94584.0            7.0     112230.0        8.0         0.0   \n",
            "1        53100.0           11.0      66973.0       16.0         0.0   \n",
            "2        15084.0            6.0      18451.0        6.0         0.0   \n",
            "3        24075.0            1.0      28136.0        1.0         0.0   \n",
            "4       138816.0           25.0     178434.0       28.0         0.0   \n",
            "...          ...            ...          ...        ...         ...   \n",
            "75205     3532.0           16.0       4196.0       22.0         0.0   \n",
            "75206    26808.0          120.0      29448.0      141.0         0.0   \n",
            "75207   161904.0          490.0     175152.0      556.0         0.0   \n",
            "75208     2203.0            1.0       2334.0        1.0         0.0   \n",
            "75209    13907.0            4.0      16119.0        4.0         0.0   \n",
            "\n",
            "       TOTAL_DEATHS  NEW_HOSPITALIZED  TOTAL_HOSPITALIZED  \\\n",
            "0             381.0               0.0               385.0   \n",
            "1             246.0               0.0               335.0   \n",
            "2             101.0               0.0               129.0   \n",
            "3              63.0               0.0               100.0   \n",
            "4             502.0               0.0               963.0   \n",
            "...             ...               ...                 ...   \n",
            "75205          11.0               0.0                45.0   \n",
            "75206          48.0               0.0               136.0   \n",
            "75207         109.0               3.0               559.0   \n",
            "75208           3.0               0.0                13.0   \n",
            "75209          39.0               0.0                93.0   \n",
            "\n",
            "       TOTAL_DEATHS_BY_DOD  NEW_DEATHS_BY_DOD  \n",
            "0                    381.0                0.0  \n",
            "1                    246.0                0.0  \n",
            "2                    101.0                0.0  \n",
            "3                     63.0                0.0  \n",
            "4                    501.0                0.0  \n",
            "...                    ...                ...  \n",
            "75205                 13.0                0.0  \n",
            "75206                 58.0                3.0  \n",
            "75207                114.0                1.0  \n",
            "75208                  3.0                0.0  \n",
            "75209                 52.0                0.0  \n",
            "\n",
            "[75210 rows x 20 columns]>\n"
          ]
        }
      ]
    },
    {
      "cell_type": "code",
      "source": [
        "numerical_lst=['int16','int32', 'int64', 'float16','float32','float64' ]\n",
        "numerical_cols= list(df.select_dtypes(include=numerical_lst).columns)"
      ],
      "metadata": {
        "id": "1XdiHzxNjsIQ"
      },
      "execution_count": 58,
      "outputs": []
    },
    {
      "cell_type": "code",
      "source": [
        "numerical_cols"
      ],
      "metadata": {
        "colab": {
          "base_uri": "https://localhost:8080/"
        },
        "id": "n8Ueh6Tcjr7B",
        "outputId": "4da8473a-5fdd-4efd-b281-de37496adcd5"
      },
      "execution_count": 59,
      "outputs": [
        {
          "output_type": "execute_result",
          "data": {
            "text/plain": [
              "['TOTAL_CASES',\n",
              " 'NEW_CASES',\n",
              " 'TOTAL_CONFIRMED',\n",
              " 'NEW_CONFIRMED',\n",
              " 'TOTAL_PROBABLE',\n",
              " 'NEW_PROBABLE',\n",
              " 'POS_TESTS',\n",
              " 'NEW_POS_TESTS',\n",
              " 'NEG_TESTS',\n",
              " 'NEW_NEG_TESTS',\n",
              " 'TOTAL_TESTS',\n",
              " 'NEW_TESTS',\n",
              " 'NEW_DEATHS',\n",
              " 'TOTAL_DEATHS',\n",
              " 'NEW_HOSPITALIZED',\n",
              " 'TOTAL_HOSPITALIZED',\n",
              " 'TOTAL_DEATHS_BY_DOD',\n",
              " 'NEW_DEATHS_BY_DOD']"
            ]
          },
          "metadata": {},
          "execution_count": 59
        }
      ]
    },
    {
      "cell_type": "code",
      "source": [
        "df=df[numerical_cols]\n",
        "df.head()"
      ],
      "metadata": {
        "colab": {
          "base_uri": "https://localhost:8080/",
          "height": 270
        },
        "id": "0XuvJ7tCigrh",
        "outputId": "79dfd63d-3f33-41be-a7d6-675cb974ad6b"
      },
      "execution_count": 60,
      "outputs": [
        {
          "output_type": "execute_result",
          "data": {
            "text/plain": [
              "   TOTAL_CASES  NEW_CASES  TOTAL_CONFIRMED  NEW_CONFIRMED  TOTAL_PROBABLE  \\\n",
              "0        26624          2            16211              1         10413.0   \n",
              "1        17298          5            12508              5          4790.0   \n",
              "2         5424          0             3154              0          2270.0   \n",
              "3         5220          0             3827              0          1393.0   \n",
              "4        46919          5            37075              3          9844.0   \n",
              "\n",
              "   NEW_PROBABLE  POS_TESTS  NEW_POS_TESTS  NEG_TESTS  NEW_NEG_TESTS  \\\n",
              "0           1.0    17646.0            1.0    94584.0            7.0   \n",
              "1           0.0    13873.0            5.0    53100.0           11.0   \n",
              "2           0.0     3367.0            0.0    15084.0            6.0   \n",
              "3           0.0     4061.0            0.0    24075.0            1.0   \n",
              "4           2.0    39618.0            3.0   138816.0           25.0   \n",
              "\n",
              "   TOTAL_TESTS  NEW_TESTS  NEW_DEATHS  TOTAL_DEATHS  NEW_HOSPITALIZED  \\\n",
              "0     112230.0        8.0         0.0         381.0               0.0   \n",
              "1      66973.0       16.0         0.0         246.0               0.0   \n",
              "2      18451.0        6.0         0.0         101.0               0.0   \n",
              "3      28136.0        1.0         0.0          63.0               0.0   \n",
              "4     178434.0       28.0         0.0         502.0               0.0   \n",
              "\n",
              "   TOTAL_HOSPITALIZED  TOTAL_DEATHS_BY_DOD  NEW_DEATHS_BY_DOD  \n",
              "0               385.0                381.0                0.0  \n",
              "1               335.0                246.0                0.0  \n",
              "2               129.0                101.0                0.0  \n",
              "3               100.0                 63.0                0.0  \n",
              "4               963.0                501.0                0.0  "
            ],
            "text/html": [
              "\n",
              "  <div id=\"df-53777c2b-332b-4f4f-8c1d-cca0a8e069ba\">\n",
              "    <div class=\"colab-df-container\">\n",
              "      <div>\n",
              "<style scoped>\n",
              "    .dataframe tbody tr th:only-of-type {\n",
              "        vertical-align: middle;\n",
              "    }\n",
              "\n",
              "    .dataframe tbody tr th {\n",
              "        vertical-align: top;\n",
              "    }\n",
              "\n",
              "    .dataframe thead th {\n",
              "        text-align: right;\n",
              "    }\n",
              "</style>\n",
              "<table border=\"1\" class=\"dataframe\">\n",
              "  <thead>\n",
              "    <tr style=\"text-align: right;\">\n",
              "      <th></th>\n",
              "      <th>TOTAL_CASES</th>\n",
              "      <th>NEW_CASES</th>\n",
              "      <th>TOTAL_CONFIRMED</th>\n",
              "      <th>NEW_CONFIRMED</th>\n",
              "      <th>TOTAL_PROBABLE</th>\n",
              "      <th>NEW_PROBABLE</th>\n",
              "      <th>POS_TESTS</th>\n",
              "      <th>NEW_POS_TESTS</th>\n",
              "      <th>NEG_TESTS</th>\n",
              "      <th>NEW_NEG_TESTS</th>\n",
              "      <th>TOTAL_TESTS</th>\n",
              "      <th>NEW_TESTS</th>\n",
              "      <th>NEW_DEATHS</th>\n",
              "      <th>TOTAL_DEATHS</th>\n",
              "      <th>NEW_HOSPITALIZED</th>\n",
              "      <th>TOTAL_HOSPITALIZED</th>\n",
              "      <th>TOTAL_DEATHS_BY_DOD</th>\n",
              "      <th>NEW_DEATHS_BY_DOD</th>\n",
              "    </tr>\n",
              "  </thead>\n",
              "  <tbody>\n",
              "    <tr>\n",
              "      <th>0</th>\n",
              "      <td>26624</td>\n",
              "      <td>2</td>\n",
              "      <td>16211</td>\n",
              "      <td>1</td>\n",
              "      <td>10413.0</td>\n",
              "      <td>1.0</td>\n",
              "      <td>17646.0</td>\n",
              "      <td>1.0</td>\n",
              "      <td>94584.0</td>\n",
              "      <td>7.0</td>\n",
              "      <td>112230.0</td>\n",
              "      <td>8.0</td>\n",
              "      <td>0.0</td>\n",
              "      <td>381.0</td>\n",
              "      <td>0.0</td>\n",
              "      <td>385.0</td>\n",
              "      <td>381.0</td>\n",
              "      <td>0.0</td>\n",
              "    </tr>\n",
              "    <tr>\n",
              "      <th>1</th>\n",
              "      <td>17298</td>\n",
              "      <td>5</td>\n",
              "      <td>12508</td>\n",
              "      <td>5</td>\n",
              "      <td>4790.0</td>\n",
              "      <td>0.0</td>\n",
              "      <td>13873.0</td>\n",
              "      <td>5.0</td>\n",
              "      <td>53100.0</td>\n",
              "      <td>11.0</td>\n",
              "      <td>66973.0</td>\n",
              "      <td>16.0</td>\n",
              "      <td>0.0</td>\n",
              "      <td>246.0</td>\n",
              "      <td>0.0</td>\n",
              "      <td>335.0</td>\n",
              "      <td>246.0</td>\n",
              "      <td>0.0</td>\n",
              "    </tr>\n",
              "    <tr>\n",
              "      <th>2</th>\n",
              "      <td>5424</td>\n",
              "      <td>0</td>\n",
              "      <td>3154</td>\n",
              "      <td>0</td>\n",
              "      <td>2270.0</td>\n",
              "      <td>0.0</td>\n",
              "      <td>3367.0</td>\n",
              "      <td>0.0</td>\n",
              "      <td>15084.0</td>\n",
              "      <td>6.0</td>\n",
              "      <td>18451.0</td>\n",
              "      <td>6.0</td>\n",
              "      <td>0.0</td>\n",
              "      <td>101.0</td>\n",
              "      <td>0.0</td>\n",
              "      <td>129.0</td>\n",
              "      <td>101.0</td>\n",
              "      <td>0.0</td>\n",
              "    </tr>\n",
              "    <tr>\n",
              "      <th>3</th>\n",
              "      <td>5220</td>\n",
              "      <td>0</td>\n",
              "      <td>3827</td>\n",
              "      <td>0</td>\n",
              "      <td>1393.0</td>\n",
              "      <td>0.0</td>\n",
              "      <td>4061.0</td>\n",
              "      <td>0.0</td>\n",
              "      <td>24075.0</td>\n",
              "      <td>1.0</td>\n",
              "      <td>28136.0</td>\n",
              "      <td>1.0</td>\n",
              "      <td>0.0</td>\n",
              "      <td>63.0</td>\n",
              "      <td>0.0</td>\n",
              "      <td>100.0</td>\n",
              "      <td>63.0</td>\n",
              "      <td>0.0</td>\n",
              "    </tr>\n",
              "    <tr>\n",
              "      <th>4</th>\n",
              "      <td>46919</td>\n",
              "      <td>5</td>\n",
              "      <td>37075</td>\n",
              "      <td>3</td>\n",
              "      <td>9844.0</td>\n",
              "      <td>2.0</td>\n",
              "      <td>39618.0</td>\n",
              "      <td>3.0</td>\n",
              "      <td>138816.0</td>\n",
              "      <td>25.0</td>\n",
              "      <td>178434.0</td>\n",
              "      <td>28.0</td>\n",
              "      <td>0.0</td>\n",
              "      <td>502.0</td>\n",
              "      <td>0.0</td>\n",
              "      <td>963.0</td>\n",
              "      <td>501.0</td>\n",
              "      <td>0.0</td>\n",
              "    </tr>\n",
              "  </tbody>\n",
              "</table>\n",
              "</div>\n",
              "      <button class=\"colab-df-convert\" onclick=\"convertToInteractive('df-53777c2b-332b-4f4f-8c1d-cca0a8e069ba')\"\n",
              "              title=\"Convert this dataframe to an interactive table.\"\n",
              "              style=\"display:none;\">\n",
              "        \n",
              "  <svg xmlns=\"http://www.w3.org/2000/svg\" height=\"24px\"viewBox=\"0 0 24 24\"\n",
              "       width=\"24px\">\n",
              "    <path d=\"M0 0h24v24H0V0z\" fill=\"none\"/>\n",
              "    <path d=\"M18.56 5.44l.94 2.06.94-2.06 2.06-.94-2.06-.94-.94-2.06-.94 2.06-2.06.94zm-11 1L8.5 8.5l.94-2.06 2.06-.94-2.06-.94L8.5 2.5l-.94 2.06-2.06.94zm10 10l.94 2.06.94-2.06 2.06-.94-2.06-.94-.94-2.06-.94 2.06-2.06.94z\"/><path d=\"M17.41 7.96l-1.37-1.37c-.4-.4-.92-.59-1.43-.59-.52 0-1.04.2-1.43.59L10.3 9.45l-7.72 7.72c-.78.78-.78 2.05 0 2.83L4 21.41c.39.39.9.59 1.41.59.51 0 1.02-.2 1.41-.59l7.78-7.78 2.81-2.81c.8-.78.8-2.07 0-2.86zM5.41 20L4 18.59l7.72-7.72 1.47 1.35L5.41 20z\"/>\n",
              "  </svg>\n",
              "      </button>\n",
              "      \n",
              "  <style>\n",
              "    .colab-df-container {\n",
              "      display:flex;\n",
              "      flex-wrap:wrap;\n",
              "      gap: 12px;\n",
              "    }\n",
              "\n",
              "    .colab-df-convert {\n",
              "      background-color: #E8F0FE;\n",
              "      border: none;\n",
              "      border-radius: 50%;\n",
              "      cursor: pointer;\n",
              "      display: none;\n",
              "      fill: #1967D2;\n",
              "      height: 32px;\n",
              "      padding: 0 0 0 0;\n",
              "      width: 32px;\n",
              "    }\n",
              "\n",
              "    .colab-df-convert:hover {\n",
              "      background-color: #E2EBFA;\n",
              "      box-shadow: 0px 1px 2px rgba(60, 64, 67, 0.3), 0px 1px 3px 1px rgba(60, 64, 67, 0.15);\n",
              "      fill: #174EA6;\n",
              "    }\n",
              "\n",
              "    [theme=dark] .colab-df-convert {\n",
              "      background-color: #3B4455;\n",
              "      fill: #D2E3FC;\n",
              "    }\n",
              "\n",
              "    [theme=dark] .colab-df-convert:hover {\n",
              "      background-color: #434B5C;\n",
              "      box-shadow: 0px 1px 3px 1px rgba(0, 0, 0, 0.15);\n",
              "      filter: drop-shadow(0px 1px 2px rgba(0, 0, 0, 0.3));\n",
              "      fill: #FFFFFF;\n",
              "    }\n",
              "  </style>\n",
              "\n",
              "      <script>\n",
              "        const buttonEl =\n",
              "          document.querySelector('#df-53777c2b-332b-4f4f-8c1d-cca0a8e069ba button.colab-df-convert');\n",
              "        buttonEl.style.display =\n",
              "          google.colab.kernel.accessAllowed ? 'block' : 'none';\n",
              "\n",
              "        async function convertToInteractive(key) {\n",
              "          const element = document.querySelector('#df-53777c2b-332b-4f4f-8c1d-cca0a8e069ba');\n",
              "          const dataTable =\n",
              "            await google.colab.kernel.invokeFunction('convertToInteractive',\n",
              "                                                     [key], {});\n",
              "          if (!dataTable) return;\n",
              "\n",
              "          const docLinkHtml = 'Like what you see? Visit the ' +\n",
              "            '<a target=\"_blank\" href=https://colab.research.google.com/notebooks/data_table.ipynb>data table notebook</a>'\n",
              "            + ' to learn more about interactive tables.';\n",
              "          element.innerHTML = '';\n",
              "          dataTable['output_type'] = 'display_data';\n",
              "          await google.colab.output.renderOutput(dataTable, element);\n",
              "          const docLink = document.createElement('div');\n",
              "          docLink.innerHTML = docLinkHtml;\n",
              "          element.appendChild(docLink);\n",
              "        }\n",
              "      </script>\n",
              "    </div>\n",
              "  </div>\n",
              "  "
            ]
          },
          "metadata": {},
          "execution_count": 60
        }
      ]
    },
    {
      "cell_type": "code",
      "source": [
        "## Standardization\n",
        "from sklearn.preprocessing import StandardScaler\n",
        "scaler=StandardScaler()"
      ],
      "metadata": {
        "id": "JM-sq31Bignm"
      },
      "execution_count": 61,
      "outputs": []
    },
    {
      "cell_type": "code",
      "source": [
        "scaler.fit(df)"
      ],
      "metadata": {
        "colab": {
          "base_uri": "https://localhost:8080/"
        },
        "id": "SO6LgzuakwzX",
        "outputId": "9f35b8b5-6ac1-428f-9b8d-915ede81b099"
      },
      "execution_count": 62,
      "outputs": [
        {
          "output_type": "execute_result",
          "data": {
            "text/plain": [
              "StandardScaler()"
            ]
          },
          "metadata": {},
          "execution_count": 62
        }
      ]
    },
    {
      "cell_type": "code",
      "source": [
        "scaled_data=scaler.transform(df)\n"
      ],
      "metadata": {
        "id": "2ji9A46Rkwv1"
      },
      "execution_count": 63,
      "outputs": []
    },
    {
      "cell_type": "code",
      "source": [
        "scaled_data"
      ],
      "metadata": {
        "colab": {
          "base_uri": "https://localhost:8080/"
        },
        "id": "74Z8BchUkwsa",
        "outputId": "49b28b36-0cfd-4124-8121-c7ef8904a594"
      },
      "execution_count": 64,
      "outputs": [
        {
          "output_type": "execute_result",
          "data": {
            "text/plain": [
              "array([[ 0.41695754, -0.30164951,  0.19493107, ..., -0.01647952,\n",
              "         0.54007282, -0.35024838],\n",
              "       [ 0.0885282 , -0.2678103 ,  0.04323649, ..., -0.07495989,\n",
              "         0.13922571, -0.35024838],\n",
              "       [-0.32963285, -0.32420899, -0.33995312, ..., -0.31589901,\n",
              "        -0.29131378, -0.35024838],\n",
              "       ...,\n",
              "       [-0.10294406,  0.4879321 , -0.00502066, ...,  0.18703216,\n",
              "        -0.25271368,  0.70402923],\n",
              "       [-0.51610437, -0.32420899, -0.46436479, ..., -0.45157346,\n",
              "        -0.58229909, -0.35024838],\n",
              "       [-0.45419371, -0.24525083, -0.39701781, ..., -0.35800487,\n",
              "        -0.43680643, -0.35024838]])"
            ]
          },
          "metadata": {},
          "execution_count": 64
        }
      ]
    },
    {
      "cell_type": "code",
      "source": [
        "##  Applying PCA Algorithms\n",
        "from sklearn.decomposition import PCA"
      ],
      "metadata": {
        "id": "YjwADSnGkwnr"
      },
      "execution_count": 65,
      "outputs": []
    },
    {
      "cell_type": "code",
      "source": [
        "pca=PCA(n_components=2)"
      ],
      "metadata": {
        "id": "ZgVTl4S5rxxL"
      },
      "execution_count": 77,
      "outputs": []
    },
    {
      "cell_type": "code",
      "source": [
        "data_pca=pca.fit_transform(scaled_data)"
      ],
      "metadata": {
        "id": "oHddHcPfrxqt"
      },
      "execution_count": 78,
      "outputs": []
    },
    {
      "cell_type": "code",
      "source": [
        "data_pca"
      ],
      "metadata": {
        "colab": {
          "base_uri": "https://localhost:8080/"
        },
        "id": "b5tSyZ3grxUO",
        "outputId": "92cdcf17-2eba-4507-a2a3-bca4e4b9dc0e"
      },
      "execution_count": 79,
      "outputs": [
        {
          "output_type": "execute_result",
          "data": {
            "text/plain": [
              "array([[ 0.39265648, -1.45228233],\n",
              "       [-0.36063425, -0.76135066],\n",
              "       [-1.26600296, -0.19444497],\n",
              "       ...,\n",
              "       [ 0.99271216,  1.68326681],\n",
              "       [-1.73394667,  0.16389939],\n",
              "       [-1.48760067,  0.05419729]])"
            ]
          },
          "metadata": {},
          "execution_count": 79
        }
      ]
    },
    {
      "cell_type": "code",
      "source": [
        "pca.explained_variance_"
      ],
      "metadata": {
        "colab": {
          "base_uri": "https://localhost:8080/"
        },
        "id": "PkJ4xlxhrxLj",
        "outputId": "57957863-c45f-4a4b-e827-aca4a7f4c307"
      },
      "execution_count": 80,
      "outputs": [
        {
          "output_type": "execute_result",
          "data": {
            "text/plain": [
              "array([10.39139145,  3.27788766])"
            ]
          },
          "metadata": {},
          "execution_count": 80
        }
      ]
    },
    {
      "cell_type": "code",
      "source": [
        "plt.figure(figsize=(8,6))\n",
        "plt.scatter(data_pca[:,0],data_pca[:,1],c=df['NEW_CASES'],cmap='plasma')\n",
        "plt.xlabel('First principal component')\n",
        "plt.ylabel('Second Principal Component')"
      ],
      "metadata": {
        "colab": {
          "base_uri": "https://localhost:8080/",
          "height": 405
        },
        "id": "nnVqceuHrxHh",
        "outputId": "f91d11c0-485f-4718-8616-9db196fafc98"
      },
      "execution_count": 81,
      "outputs": [
        {
          "output_type": "execute_result",
          "data": {
            "text/plain": [
              "Text(0, 0.5, 'Second Principal Component')"
            ]
          },
          "metadata": {},
          "execution_count": 81
        },
        {
          "output_type": "display_data",
          "data": {
            "text/plain": [
              "<Figure size 576x432 with 1 Axes>"
            ],
            "image/png": "[encoded data removed]"
          },
          "metadata": {
            "needs_background": "light"
          }
        }
      ]
    }
  ]
}